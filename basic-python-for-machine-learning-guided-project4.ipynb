{
 "cells": [
  {
   "cell_type": "markdown",
   "id": "3386dcdb",
   "metadata": {
    "id": "QkcKMNzWAbg7",
    "papermill": {
     "duration": 0.009659,
     "end_time": "2023-06-25T20:41:58.459054",
     "exception": false,
     "start_time": "2023-06-25T20:41:58.449395",
     "status": "completed"
    },
    "tags": []
   },
   "source": [
    "#Chapter 4 \n",
    "##NumPy\n",
    "\n",
    "Rachel is very happy with the way you cleaned and structured the employee data last time, but she wants to take things one step further. The sales team wants to track the performance of the employees not only by the revenue they generated, but also taking the number of calls and the average deal size into account. For that, Rachel wants you to create a software for reporting. To be able to perform calculations on the data you decide that creating a data structure using Numpy will be best."
   ]
  },
  {
   "cell_type": "markdown",
   "id": "3e1004ec",
   "metadata": {
    "id": "LWlWyFTek4PO",
    "papermill": {
     "duration": 0.012132,
     "end_time": "2023-06-25T20:41:58.480825",
     "exception": false,
     "start_time": "2023-06-25T20:41:58.468693",
     "status": "completed"
    },
    "tags": []
   },
   "source": [
    "### Get the data\n",
    "\n",
    "First, you need to get the data. You created lists with the relevant information in the last chapter.\n",
    "\n",
    "📌 Copy and paste the lists \"names\", \"call_numbers\", \"average_deal_size\", and \"revenues\" you created in chapter 3 and assign them to variables."
   ]
  },
  {
   "cell_type": "code",
   "execution_count": 1,
   "id": "52e8edc3",
   "metadata": {
    "execution": {
     "iopub.execute_input": "2023-06-25T20:41:58.501383Z",
     "iopub.status.busy": "2023-06-25T20:41:58.500840Z",
     "iopub.status.idle": "2023-06-25T20:41:58.515962Z",
     "shell.execute_reply": "2023-06-25T20:41:58.515021Z"
    },
    "id": "XtkCWxs4lGyX",
    "papermill": {
     "duration": 0.027608,
     "end_time": "2023-06-25T20:41:58.518202",
     "exception": false,
     "start_time": "2023-06-25T20:41:58.490594",
     "status": "completed"
    },
    "tags": []
   },
   "outputs": [],
   "source": [
    "#Copy the lists \"names\", \"call_numbers\", \"average_deal_size\", and \"revenues\" from chapter 3\n",
    "names = ['Ben', 'Omer', 'Karen', 'Celine', 'Sue', 'Bora', 'Rose', 'Ellen', 'Bob', 'Taylor,', 'Jude']\n",
    "call_numbers = [300, 10, 500, 70, 100, 100, 600, 800, 200, 450, 80]\n",
    "average_deal_sizes = [8, 6, 24, 32, 5, 25, 25, 40, 15, 10, 12]\n",
    "revenues = [2400, 60, 12000, 2275, 500, 770, 4000, 6000, 800, 1200, 500]"
   ]
  },
  {
   "cell_type": "markdown",
   "id": "cdf92dfb",
   "metadata": {
    "id": "Ge6Rw3bkA1nq",
    "papermill": {
     "duration": 0.010033,
     "end_time": "2023-06-25T20:41:58.537067",
     "exception": false,
     "start_time": "2023-06-25T20:41:58.527034",
     "status": "completed"
    },
    "tags": []
   },
   "source": [
    "### Importing NumPy\n",
    "\n",
    "You plan to create a data structure using NumPy.\n",
    "\n",
    "📌 Import the NumPy library as."
   ]
  },
  {
   "cell_type": "code",
   "execution_count": 2,
   "id": "cf5f3441",
   "metadata": {
    "execution": {
     "iopub.execute_input": "2023-06-25T20:41:58.560143Z",
     "iopub.status.busy": "2023-06-25T20:41:58.559580Z",
     "iopub.status.idle": "2023-06-25T20:41:58.564956Z",
     "shell.execute_reply": "2023-06-25T20:41:58.563588Z"
    },
    "id": "bkJKAysX41P0",
    "papermill": {
     "duration": 0.021921,
     "end_time": "2023-06-25T20:41:58.567529",
     "exception": false,
     "start_time": "2023-06-25T20:41:58.545608",
     "status": "completed"
    },
    "tags": []
   },
   "outputs": [],
   "source": [
    "#Import the NumPy library\n",
    "import numpy as np"
   ]
  },
  {
   "cell_type": "markdown",
   "id": "bbdb7565",
   "metadata": {
    "id": "V_RyXQRPDKDX",
    "papermill": {
     "duration": 0.010876,
     "end_time": "2023-06-25T20:41:58.589655",
     "exception": false,
     "start_time": "2023-06-25T20:41:58.578779",
     "status": "completed"
    },
    "tags": []
   },
   "source": [
    "###Creating an initial (base) arrays\n",
    "\n",
    "Next, you need to prepare an array in which you will store the values. The initial array will be empty. Since it will hold numerical data, the data type should be integer.\n",
    "\n",
    "📌 Create an empty array using .array(). \n",
    "\n",
    "📌 Use the *dtype* parameter to specify the data type."
   ]
  },
  {
   "cell_type": "code",
   "execution_count": 3,
   "id": "7beb17d4",
   "metadata": {
    "execution": {
     "iopub.execute_input": "2023-06-25T20:41:58.608093Z",
     "iopub.status.busy": "2023-06-25T20:41:58.607659Z",
     "iopub.status.idle": "2023-06-25T20:41:58.612633Z",
     "shell.execute_reply": "2023-06-25T20:41:58.611631Z"
    },
    "id": "rhn8VLL5F1io",
    "papermill": {
     "duration": 0.016242,
     "end_time": "2023-06-25T20:41:58.614639",
     "exception": false,
     "start_time": "2023-06-25T20:41:58.598397",
     "status": "completed"
    },
    "tags": []
   },
   "outputs": [],
   "source": [
    "#Create an empty array with the data type integer\n",
    "data = np.array([], dtype=int)"
   ]
  },
  {
   "cell_type": "markdown",
   "id": "d7c801b8",
   "metadata": {
    "id": "RTg7VcXco1pB",
    "papermill": {
     "duration": 0.007751,
     "end_time": "2023-06-25T20:41:58.630482",
     "exception": false,
     "start_time": "2023-06-25T20:41:58.622731",
     "status": "completed"
    },
    "tags": []
   },
   "source": [
    "###Functions to add the data\n",
    "\n",
    "Now that your empty array is ready, you need to transfer the data from the lists to the array. You create 2 functions functions for this. \n",
    "\n",
    "1. append_names function: A function that takes the \"names\" list and adds the index of each name to the \"data\" array.\n",
    "\n",
    "  📌 Use a for loop and the .append() method for the indexes.\n",
    "\n",
    "2. append_performance_measures function: A function that takes one of the remaining lists to add the sales performance data like number of calls, average deal size and revenue to the \"data\" array.\n",
    "\n",
    "  📌 Use the .append() method."
   ]
  },
  {
   "cell_type": "code",
   "execution_count": 4,
   "id": "b552b7a2",
   "metadata": {
    "execution": {
     "iopub.execute_input": "2023-06-25T20:41:58.648830Z",
     "iopub.status.busy": "2023-06-25T20:41:58.648060Z",
     "iopub.status.idle": "2023-06-25T20:41:58.653527Z",
     "shell.execute_reply": "2023-06-25T20:41:58.652686Z"
    },
    "id": "aFt18Yn_Ai48",
    "papermill": {
     "duration": 0.017054,
     "end_time": "2023-06-25T20:41:58.655557",
     "exception": false,
     "start_time": "2023-06-25T20:41:58.638503",
     "status": "completed"
    },
    "tags": []
   },
   "outputs": [],
   "source": [
    "#Define the append_names function\n",
    "def append_names(names_list):\n",
    "    global data\n",
    "    for i in names_list:\n",
    "        data = np.append(data, names.index(i))"
   ]
  },
  {
   "cell_type": "code",
   "execution_count": 5,
   "id": "565d5dcc",
   "metadata": {
    "execution": {
     "iopub.execute_input": "2023-06-25T20:41:58.674172Z",
     "iopub.status.busy": "2023-06-25T20:41:58.673403Z",
     "iopub.status.idle": "2023-06-25T20:41:58.677938Z",
     "shell.execute_reply": "2023-06-25T20:41:58.677318Z"
    },
    "id": "XZ0xJEnqUCt6",
    "papermill": {
     "duration": 0.016144,
     "end_time": "2023-06-25T20:41:58.679938",
     "exception": false,
     "start_time": "2023-06-25T20:41:58.663794",
     "status": "completed"
    },
    "tags": []
   },
   "outputs": [],
   "source": [
    "#Define the append_performance_measures function\n",
    "def append_performance_measures(feature_list):\n",
    "    global data\n",
    "    data = np.append(data, feature_list)"
   ]
  },
  {
   "cell_type": "markdown",
   "id": "e40e2b42",
   "metadata": {
    "id": "JEQ_Il_JFPJR",
    "papermill": {
     "duration": 0.008126,
     "end_time": "2023-06-25T20:41:58.696319",
     "exception": false,
     "start_time": "2023-06-25T20:41:58.688193",
     "status": "completed"
    },
    "tags": []
   },
   "source": [
    "Call the functions to add the data to the array and print the array and its shape to see the result.\n",
    "\n",
    "📌 Use the .shape() method."
   ]
  },
  {
   "cell_type": "code",
   "execution_count": 6,
   "id": "e8d63a3e",
   "metadata": {
    "execution": {
     "iopub.execute_input": "2023-06-25T20:41:58.717835Z",
     "iopub.status.busy": "2023-06-25T20:41:58.717406Z",
     "iopub.status.idle": "2023-06-25T20:41:58.725397Z",
     "shell.execute_reply": "2023-06-25T20:41:58.724438Z"
    },
    "id": "eknqraz75Qj9",
    "papermill": {
     "duration": 0.020798,
     "end_time": "2023-06-25T20:41:58.727844",
     "exception": false,
     "start_time": "2023-06-25T20:41:58.707046",
     "status": "completed"
    },
    "tags": []
   },
   "outputs": [
    {
     "name": "stdout",
     "output_type": "stream",
     "text": [
      "[    0     1     2     3     4     5     6     7     8     9    10   300\n",
      "    10   500    70   100   100   600   800   200   450    80     8     6\n",
      "    24    32     5    25    25    40    15    10    12  2400    60 12000\n",
      "  2275   500   770  4000  6000   800  1200   500]\n",
      "(44,)\n"
     ]
    }
   ],
   "source": [
    "#Use the append_names and append_sales_performance_measures to add the data\n",
    "append_names(names)\n",
    "append_performance_measures(call_numbers)\n",
    "append_performance_measures(average_deal_sizes)\n",
    "append_performance_measures(revenues)\n",
    "\n",
    "#Print the array and its shape to see the result\n",
    "print(data)\n",
    "print(data.shape)"
   ]
  },
  {
   "cell_type": "markdown",
   "id": "0a9581e2",
   "metadata": {
    "id": "PrHY03X6C94s",
    "papermill": {
     "duration": 0.007844,
     "end_time": "2023-06-25T20:41:58.743924",
     "exception": false,
     "start_time": "2023-06-25T20:41:58.736080",
     "status": "completed"
    },
    "tags": []
   },
   "source": [
    "###Reshape the array\n",
    "\n",
    "But like this, your array is not very structured. You need a 2D-array to be able to work better with it. The original data was 4 lists each with 11 values. So, the \"data\" array should have 4 rows and 11 columns. Print the result afterwards.\n",
    "\n",
    "📌 Use the .reshape() method to rearrange the values in the array.\n"
   ]
  },
  {
   "cell_type": "code",
   "execution_count": 7,
   "id": "5bc26a63",
   "metadata": {
    "execution": {
     "iopub.execute_input": "2023-06-25T20:41:58.761409Z",
     "iopub.status.busy": "2023-06-25T20:41:58.760717Z",
     "iopub.status.idle": "2023-06-25T20:41:58.766763Z",
     "shell.execute_reply": "2023-06-25T20:41:58.765737Z"
    },
    "id": "__2N4NZB5k3Q",
    "papermill": {
     "duration": 0.01695,
     "end_time": "2023-06-25T20:41:58.768914",
     "exception": false,
     "start_time": "2023-06-25T20:41:58.751964",
     "status": "completed"
    },
    "tags": []
   },
   "outputs": [
    {
     "name": "stdout",
     "output_type": "stream",
     "text": [
      "[[    0     1     2     3     4     5     6     7     8     9    10]\n",
      " [  300    10   500    70   100   100   600   800   200   450    80]\n",
      " [    8     6    24    32     5    25    25    40    15    10    12]\n",
      " [ 2400    60 12000  2275   500   770  4000  6000   800  1200   500]]\n",
      "(4, 11)\n"
     ]
    }
   ],
   "source": [
    "#Use the .reshape() method to change the array structure to 4 rows and 11 columns\n",
    "data = data.reshape(4, 11)\n",
    "#Print the resulting array and its shape\n",
    "print(data)\n",
    "print(data.shape)"
   ]
  },
  {
   "cell_type": "markdown",
   "id": "a581bee4",
   "metadata": {
    "id": "-JgrV_l7MIwQ",
    "papermill": {
     "duration": 0.007792,
     "end_time": "2023-06-25T20:41:58.784990",
     "exception": false,
     "start_time": "2023-06-25T20:41:58.777198",
     "status": "completed"
    },
    "tags": []
   },
   "source": [
    "###Accessing values\n",
    "\n",
    "Inside the array you can access the values in different ways. \n",
    "\n",
    "1. Print each row separately. \n",
    "\n",
    "  📌 Write down the array name and the index of the row you want to access.\n"
   ]
  },
  {
   "cell_type": "code",
   "execution_count": 8,
   "id": "5ccec853",
   "metadata": {
    "execution": {
     "iopub.execute_input": "2023-06-25T20:41:58.803077Z",
     "iopub.status.busy": "2023-06-25T20:41:58.802468Z",
     "iopub.status.idle": "2023-06-25T20:41:58.807758Z",
     "shell.execute_reply": "2023-06-25T20:41:58.806684Z"
    },
    "id": "7IwKRbzORnjA",
    "papermill": {
     "duration": 0.016646,
     "end_time": "2023-06-25T20:41:58.809702",
     "exception": false,
     "start_time": "2023-06-25T20:41:58.793056",
     "status": "completed"
    },
    "tags": []
   },
   "outputs": [
    {
     "name": "stdout",
     "output_type": "stream",
     "text": [
      "[ 0  1  2  3  4  5  6  7  8  9 10]\n"
     ]
    }
   ],
   "source": [
    "#Print the name indexes\n",
    "print(data[0])"
   ]
  },
  {
   "cell_type": "code",
   "execution_count": 9,
   "id": "48aa8677",
   "metadata": {
    "execution": {
     "iopub.execute_input": "2023-06-25T20:41:58.830772Z",
     "iopub.status.busy": "2023-06-25T20:41:58.830430Z",
     "iopub.status.idle": "2023-06-25T20:41:58.835516Z",
     "shell.execute_reply": "2023-06-25T20:41:58.834824Z"
    },
    "id": "4TZ-6AI3AJ3k",
    "papermill": {
     "duration": 0.022631,
     "end_time": "2023-06-25T20:41:58.840385",
     "exception": false,
     "start_time": "2023-06-25T20:41:58.817754",
     "status": "completed"
    },
    "tags": []
   },
   "outputs": [
    {
     "name": "stdout",
     "output_type": "stream",
     "text": [
      "[300  10 500  70 100 100 600 800 200 450  80]\n"
     ]
    }
   ],
   "source": [
    "#Print the number of calls\n",
    "print(data[1])"
   ]
  },
  {
   "cell_type": "code",
   "execution_count": 10,
   "id": "777008c2",
   "metadata": {
    "execution": {
     "iopub.execute_input": "2023-06-25T20:41:58.860429Z",
     "iopub.status.busy": "2023-06-25T20:41:58.859795Z",
     "iopub.status.idle": "2023-06-25T20:41:58.864498Z",
     "shell.execute_reply": "2023-06-25T20:41:58.863799Z"
    },
    "id": "6AwKKNcVP-Z4",
    "papermill": {
     "duration": 0.017178,
     "end_time": "2023-06-25T20:41:58.867130",
     "exception": false,
     "start_time": "2023-06-25T20:41:58.849952",
     "status": "completed"
    },
    "tags": []
   },
   "outputs": [
    {
     "name": "stdout",
     "output_type": "stream",
     "text": [
      "[ 8  6 24 32  5 25 25 40 15 10 12]\n"
     ]
    }
   ],
   "source": [
    "#Print the average deal sizes\n",
    "print(data[2])"
   ]
  },
  {
   "cell_type": "code",
   "execution_count": 11,
   "id": "8afe9f01",
   "metadata": {
    "execution": {
     "iopub.execute_input": "2023-06-25T20:41:58.891772Z",
     "iopub.status.busy": "2023-06-25T20:41:58.890906Z",
     "iopub.status.idle": "2023-06-25T20:41:58.897248Z",
     "shell.execute_reply": "2023-06-25T20:41:58.896027Z"
    },
    "id": "A0XcKZpKQRnI",
    "papermill": {
     "duration": 0.020454,
     "end_time": "2023-06-25T20:41:58.899863",
     "exception": false,
     "start_time": "2023-06-25T20:41:58.879409",
     "status": "completed"
    },
    "tags": []
   },
   "outputs": [
    {
     "name": "stdout",
     "output_type": "stream",
     "text": [
      "[ 2400    60 12000  2275   500   770  4000  6000   800  1200   500]\n"
     ]
    }
   ],
   "source": [
    "#Print the revenues \n",
    "print(data[3])"
   ]
  },
  {
   "cell_type": "markdown",
   "id": "5689dec1",
   "metadata": {
    "id": "vwggtzzeAuGX",
    "papermill": {
     "duration": 0.010494,
     "end_time": "2023-06-25T20:41:58.923070",
     "exception": false,
     "start_time": "2023-06-25T20:41:58.912576",
     "status": "completed"
    },
    "tags": []
   },
   "source": [
    "2. Print a specific value.\n",
    "\n",
    "  📌 Give the index of the row and the column of the value you want to access.\n",
    "  For example, to get the revenue generated by Ellen, specify the value in the 3rd row and 7th column."
   ]
  },
  {
   "cell_type": "code",
   "execution_count": 12,
   "id": "fdbecc29",
   "metadata": {
    "execution": {
     "iopub.execute_input": "2023-06-25T20:41:58.943943Z",
     "iopub.status.busy": "2023-06-25T20:41:58.943113Z",
     "iopub.status.idle": "2023-06-25T20:41:58.949108Z",
     "shell.execute_reply": "2023-06-25T20:41:58.947902Z"
    },
    "id": "qkHN7yCiSs7z",
    "papermill": {
     "duration": 0.018756,
     "end_time": "2023-06-25T20:41:58.951171",
     "exception": false,
     "start_time": "2023-06-25T20:41:58.932415",
     "status": "completed"
    },
    "tags": []
   },
   "outputs": [
    {
     "name": "stdout",
     "output_type": "stream",
     "text": [
      "6000\n"
     ]
    }
   ],
   "source": [
    "#Print the revenue generated by Ellen\n",
    "print(data[3,7])"
   ]
  },
  {
   "cell_type": "markdown",
   "id": "e6069527",
   "metadata": {
    "id": "HpcNsSjVVJ76",
    "papermill": {
     "duration": 0.008739,
     "end_time": "2023-06-25T20:41:58.969214",
     "exception": false,
     "start_time": "2023-06-25T20:41:58.960475",
     "status": "completed"
    },
    "tags": []
   },
   "source": [
    "###Analyzing the data\n",
    "\n",
    "Great, your array is ready!\n",
    "\n",
    "The sales team has a formula that they use to calculate the performance score of an employee.\n",
    "\n",
    "\n",
    "\\begin{align}\n",
    "        \\text{Performance} = \\frac{\\text{Average deal size x Revenue}}{\\text{Number of calls}}\n",
    "    \\end{align}\n",
    "\n",
    "\n",
    "📌 Create a function called “calculate_performance” to implement this formula. It should take the employee name as an input."
   ]
  },
  {
   "cell_type": "code",
   "execution_count": 13,
   "id": "7889f357",
   "metadata": {
    "execution": {
     "iopub.execute_input": "2023-06-25T20:41:58.989568Z",
     "iopub.status.busy": "2023-06-25T20:41:58.988784Z",
     "iopub.status.idle": "2023-06-25T20:41:58.995406Z",
     "shell.execute_reply": "2023-06-25T20:41:58.994319Z"
    },
    "id": "UoB-hSG02lmJ",
    "papermill": {
     "duration": 0.019252,
     "end_time": "2023-06-25T20:41:58.997627",
     "exception": false,
     "start_time": "2023-06-25T20:41:58.978375",
     "status": "completed"
    },
    "tags": []
   },
   "outputs": [],
   "source": [
    "#Define the function calculate_performance\n",
    "def calculate_performance(employee_name):\n",
    "    idx = names.index(employee_name)\n",
    "    number_of_calls = data[1, idx]\n",
    "    avg_deal_size = data[2, idx]\n",
    "    revenue = data[3, idx]\n",
    "    \n",
    "    score = (avg_deal_size*revenue)/number_of_calls\n",
    "    \n",
    "    return score"
   ]
  },
  {
   "cell_type": "markdown",
   "id": "17c9866c",
   "metadata": {
    "id": "BJp7Qgxv5cVX",
    "papermill": {
     "duration": 0.008644,
     "end_time": "2023-06-25T20:41:59.015086",
     "exception": false,
     "start_time": "2023-06-25T20:41:59.006442",
     "status": "completed"
    },
    "tags": []
   },
   "source": [
    "###Try it out\n",
    "\n",
    "Let's check Ellen's performance score and print the result."
   ]
  },
  {
   "cell_type": "code",
   "execution_count": 14,
   "id": "a0323f3d",
   "metadata": {
    "execution": {
     "iopub.execute_input": "2023-06-25T20:41:59.035319Z",
     "iopub.status.busy": "2023-06-25T20:41:59.034585Z",
     "iopub.status.idle": "2023-06-25T20:41:59.040265Z",
     "shell.execute_reply": "2023-06-25T20:41:59.039210Z"
    },
    "id": "kd2J09dg6n4i",
    "papermill": {
     "duration": 0.018547,
     "end_time": "2023-06-25T20:41:59.042452",
     "exception": false,
     "start_time": "2023-06-25T20:41:59.023905",
     "status": "completed"
    },
    "tags": []
   },
   "outputs": [
    {
     "name": "stdout",
     "output_type": "stream",
     "text": [
      "300.0\n"
     ]
    }
   ],
   "source": [
    "#Use the calculate performance function to print Ellen's performance\n",
    "print(calculate_performance(\"Ellen\"))"
   ]
  },
  {
   "cell_type": "markdown",
   "id": "7e43b393",
   "metadata": {
    "id": "4zUQIn2s7wwy",
    "papermill": {
     "duration": 0.008744,
     "end_time": "2023-06-25T20:41:59.059987",
     "exception": false,
     "start_time": "2023-06-25T20:41:59.051243",
     "status": "completed"
    },
    "tags": []
   },
   "source": [
    "###Calculate the performance of each employee\n",
    "Now you need to calculate the performance score of each employee and add these scores to a list.\n",
    "\n",
    "📌 Create an empty list \"performance_scores\" to hold the scores.\n",
    "\n",
    "📌 Use a for loop to convert the scores into integer type data and append it to the list \"sperformance_scores\"."
   ]
  },
  {
   "cell_type": "code",
   "execution_count": 15,
   "id": "6e324e91",
   "metadata": {
    "execution": {
     "iopub.execute_input": "2023-06-25T20:41:59.078819Z",
     "iopub.status.busy": "2023-06-25T20:41:59.078515Z",
     "iopub.status.idle": "2023-06-25T20:41:59.083554Z",
     "shell.execute_reply": "2023-06-25T20:41:59.082559Z"
    },
    "id": "xTroGqo745AO",
    "papermill": {
     "duration": 0.016557,
     "end_time": "2023-06-25T20:41:59.085416",
     "exception": false,
     "start_time": "2023-06-25T20:41:59.068859",
     "status": "completed"
    },
    "tags": []
   },
   "outputs": [],
   "source": [
    "#Calculate the performance of each employee\n",
    "performance_score = []\n",
    "for name in names:\n",
    "    score = int(calculate_performance(name))\n",
    "    performance_score.append(score)"
   ]
  },
  {
   "cell_type": "markdown",
   "id": "e9edf3ad",
   "metadata": {
    "id": "JEjPMpP7FvOw",
    "papermill": {
     "duration": 0.008409,
     "end_time": "2023-06-25T20:41:59.102558",
     "exception": false,
     "start_time": "2023-06-25T20:41:59.094149",
     "status": "completed"
    },
    "tags": []
   },
   "source": [
    "###Add the scores to the \"data\" array\n",
    "\n",
    "Next, you need to add the scores to your \"data\" array and print the result.\n",
    "\n",
    "📌 Use the .concatenate() method to add the \"performance_scores\" list to the \"data\" array. "
   ]
  },
  {
   "cell_type": "code",
   "execution_count": 16,
   "id": "aef00128",
   "metadata": {
    "execution": {
     "iopub.execute_input": "2023-06-25T20:41:59.121704Z",
     "iopub.status.busy": "2023-06-25T20:41:59.121385Z",
     "iopub.status.idle": "2023-06-25T20:41:59.127101Z",
     "shell.execute_reply": "2023-06-25T20:41:59.126039Z"
    },
    "id": "zm4Zbzl9-1n-",
    "papermill": {
     "duration": 0.017919,
     "end_time": "2023-06-25T20:41:59.129398",
     "exception": false,
     "start_time": "2023-06-25T20:41:59.111479",
     "status": "completed"
    },
    "tags": []
   },
   "outputs": [
    {
     "name": "stdout",
     "output_type": "stream",
     "text": [
      "[[    0     1     2     3     4     5     6     7     8     9    10]\n",
      " [  300    10   500    70   100   100   600   800   200   450    80]\n",
      " [    8     6    24    32     5    25    25    40    15    10    12]\n",
      " [ 2400    60 12000  2275   500   770  4000  6000   800  1200   500]\n",
      " [   64    36   576  1040    25   192   166   300    60    26    75]]\n"
     ]
    }
   ],
   "source": [
    "#Add the \"performance_scores\" list to the \"data\" array\n",
    "data = np.concatenate((data, [performance_score]), axis=0)\n",
    "\n",
    "#Print the resulting array\n",
    "print(data)"
   ]
  },
  {
   "cell_type": "markdown",
   "id": "f7b0535e",
   "metadata": {
    "id": "oWMMtqfDUZVs",
    "papermill": {
     "duration": 0.008497,
     "end_time": "2023-06-25T20:41:59.146725",
     "exception": false,
     "start_time": "2023-06-25T20:41:59.138228",
     "status": "completed"
    },
    "tags": []
   },
   "source": [
    "###Find out the best and worst performing employees\n",
    "\n",
    "Finally, you need to determine the best and worst performing employees.\n",
    "\n",
    "📌 Use the .argmax() and .argmin() methods to find the index of the best and worst performing employees."
   ]
  },
  {
   "cell_type": "code",
   "execution_count": 17,
   "id": "768cf40c",
   "metadata": {
    "execution": {
     "iopub.execute_input": "2023-06-25T20:41:59.166283Z",
     "iopub.status.busy": "2023-06-25T20:41:59.165580Z",
     "iopub.status.idle": "2023-06-25T20:41:59.172339Z",
     "shell.execute_reply": "2023-06-25T20:41:59.171152Z"
    },
    "id": "58fNLhRsQ18I",
    "papermill": {
     "duration": 0.019185,
     "end_time": "2023-06-25T20:41:59.174624",
     "exception": false,
     "start_time": "2023-06-25T20:41:59.155439",
     "status": "completed"
    },
    "tags": []
   },
   "outputs": [
    {
     "name": "stdout",
     "output_type": "stream",
     "text": [
      "Best Performing Employee: Celine\n",
      "Worst Performing Employee: Sue\n"
     ]
    }
   ],
   "source": [
    "#Use .argmax() and .argmin() methods to determine the best and worst performing employees\n",
    "idx_best_employee = np.argmax(data[4])\n",
    "idx_worst_employee = np.argmin(data[4])\n",
    "#Print out the results\n",
    "print(f\"Best Performing Employee: {names[idx_best_employee]}\")\n",
    "print(f\"Worst Performing Employee: {names[idx_worst_employee]}\")"
   ]
  }
 ],
 "metadata": {
  "kernelspec": {
   "display_name": "Python 3",
   "language": "python",
   "name": "python3"
  },
  "language_info": {
   "codemirror_mode": {
    "name": "ipython",
    "version": 3
   },
   "file_extension": ".py",
   "mimetype": "text/x-python",
   "name": "python",
   "nbconvert_exporter": "python",
   "pygments_lexer": "ipython3",
   "version": "3.10.10"
  },
  "papermill": {
   "default_parameters": {},
   "duration": 11.994056,
   "end_time": "2023-06-25T20:41:59.903239",
   "environment_variables": {},
   "exception": null,
   "input_path": "__notebook__.ipynb",
   "output_path": "__notebook__.ipynb",
   "parameters": {},
   "start_time": "2023-06-25T20:41:47.909183",
   "version": "2.4.0"
  }
 },
 "nbformat": 4,
 "nbformat_minor": 5
}
